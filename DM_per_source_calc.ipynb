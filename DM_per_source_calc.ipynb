{
 "cells": [
  {
   "cell_type": "code",
   "execution_count": 1,
   "metadata": {},
   "outputs": [],
   "source": [
    "%matplotlib inline\n",
    "import matplotlib.pyplot as plt\n",
    "import seaborn as sns\n",
    "\n",
    "import numpy as np\n",
    "from scipy import stats\n",
    "import math\n",
    "import csv\n",
    "from scipy.optimize import curve_fit\n",
    "import pandas as pd\n",
    "import pylab as pl\n",
    "import matplotlib.patches as patches\n",
    "from matplotlib.path import Path\n",
    "import matplotlib as mpl\n",
    "sns.set_style('white')\n",
    "sns.set_context('talk')"
   ]
  },
  {
   "cell_type": "code",
   "execution_count": 3,
   "metadata": {},
   "outputs": [],
   "source": [
    "def datafile(filename):\n",
    "    data = np.genfromtxt(filename, skip_header=2)\n",
    "    name = data[:,0]\n",
    "    Gl = data[:,1]              #Galactic Longitude\n",
    "    Gb = data[:,2]              #Galactic Latitude\n",
    "    DM_meas = data[:,3]         #Observed DM\n",
    "    d_c = data[:,4]             #Distance in kpc\n",
    "    d_l = data[:,5]             #Distance lower bound in kpc\n",
    "    d_u = data[:,6]             #Distance upper bound in kpc\n",
    "    d_e_l = data[:,7]           #Distance lower error in kpc\n",
    "    d_e_u = data[:,8]           #Distance upper error in kpc\n",
    "    method = data[:,9]          #Used method for errors. 1 is gaussian, 2 is tophat\n",
    "    age = data[:,10]            #Spin down age of pulsar\n",
    "    DM_NE = data[:,11]          #Predicted NE2001 DM\n",
    "    DM_NE_l = data[:,12]        #Predicted NE2001 lower bound\n",
    "    DM_NE_u = data[:,13]        #Predicted NE2001 upper bound\n",
    "    DM_NE_e_l = data[:,14]      #Predicted NE2001 lower error\n",
    "    DM_NE_e_u = data[:,15]      #Predicted NE2001 upper erro\n",
    "    DM_YMW = data[:,16]         #Predicted YMW16 DM\n",
    "    DM_YMW_l = data[:,17]       #Predicted YMW16 lower bound\n",
    "    DM_YMW_u = data[:,18]       #Predicted YMW16 upper bound\n",
    "    DM_YMW_e_l = data[:,19]     #Predicted YMW16 lower error\n",
    "    DM_YMW_e_u = data[:,20]     #Predicted YMW16 upper error\n",
    "    assoc = data[:,21]          #Association of the pulsar\n",
    "    B = data[:,22]\n",
    "    P = data[:,23]\n",
    "    \n",
    "    \n",
    "    return name, Gl, Gb, DM_meas, d_c, d_l, d_u, d_e_l, d_e_u, method, age, DM_NE, DM_NE_l, DM_NE_u, DM_NE_e_l, DM_NE_e_u, DM_YMW, DM_YMW_l, DM_YMW_u, DM_YMW_e_l, DM_YMW_e_u, assoc, B, P"
   ]
  },
  {
   "cell_type": "code",
   "execution_count": 4,
   "metadata": {},
   "outputs": [],
   "source": [
    "name, Gl, Gb, DM_meas, d_c, d_l, d_u, d_e_l, d_e_u, method, age, DM_NE, DM_NE_l, DM_NE_u, DM_NE_e_l, DM_NE_e_u, DM_YMW, DM_YMW_l, DM_YMW_u, DM_YMW_e_l, DM_YMW_e_u, assoc, B, P = datafile(\"associated_P_B_z_20190506.txt\") #_tc93\n"
   ]
  },
  {
   "cell_type": "code",
   "execution_count": 50,
   "metadata": {},
   "outputs": [],
   "source": [
    "# Formula rewritten for normal B-field pulsar\n",
    "def DM_wind(B, P):\n",
    "    B13 = B/1E13\n",
    "    P100ms = P*10.\n",
    "    #print B13\n",
    "    #print P100ms\n",
    "    DMw = 18*B13**(4./3.) * P100ms**(-11./3.)\n",
    "    \n",
    "    return DMw"
   ]
  },
  {
   "cell_type": "code",
   "execution_count": 51,
   "metadata": {},
   "outputs": [],
   "source": [
    "#Original formula from CITE\n",
    "def DM_wind2(B, P):\n",
    "    B14 = B/1E14\n",
    "    P100ms = P*10.\n",
    "    print B14\n",
    "    print P100ms\n",
    "    DMw2 = 380.*B14**(4./3.) * P100ms**(-11./3.)\n",
    "    \n",
    "    return DMw2"
   ]
  },
  {
   "cell_type": "code",
   "execution_count": 52,
   "metadata": {},
   "outputs": [
    {
     "name": "stdout",
     "output_type": "stream",
     "text": [
      "[1.48166825e-01 4.62894853e-02 2.75896348e+00 6.07063356e+00\n",
      " 6.88772240e+01 1.68001695e-02 3.48437103e+00 2.65871323e+01\n",
      " 3.16338043e-01 5.92605674e+00 1.33784959e-02 2.42562862e+01\n",
      " 2.02078310e+00 1.28306518e-01 2.15686550e+01 1.29176685e+00\n",
      " 3.35769129e-01 2.00968400e+00]\n"
     ]
    }
   ],
   "source": [
    "DMw = DM_wind(B,P)\n",
    "print DMw\n",
    "#DMw2 = DM_wind2(B,P)\n",
    "#print DMw2"
   ]
  },
  {
   "cell_type": "code",
   "execution_count": 48,
   "metadata": {},
   "outputs": [
    {
     "name": "stdout",
     "output_type": "stream",
     "text": [
      "9.21425582208929\n",
      "9.028966130481807\n"
     ]
    }
   ],
   "source": [
    "# Difference between both formulae\n",
    "print np.mean(DMw)\n",
    "print np.mean(DMw2)"
   ]
  },
  {
   "cell_type": "code",
   "execution_count": 53,
   "metadata": {},
   "outputs": [
    {
     "data": {
      "text/plain": [
       "17.638037567728563"
      ]
     },
     "execution_count": 53,
     "metadata": {},
     "output_type": "execute_result"
    }
   ],
   "source": [
    "# convert constant to 10^13 Gauss in stead of formule given 10^14 Gauss\n",
    "380*(10.**(-4./3.))"
   ]
  },
  {
   "cell_type": "code",
   "execution_count": null,
   "metadata": {},
   "outputs": [],
   "source": []
  }
 ],
 "metadata": {
  "kernelspec": {
   "display_name": "Python 3",
   "language": "python",
   "name": "python3"
  },
  "language_info": {
   "codemirror_mode": {
    "name": "ipython",
    "version": 2
   },
   "file_extension": ".py",
   "mimetype": "text/x-python",
   "name": "python",
   "nbconvert_exporter": "python",
   "pygments_lexer": "ipython2",
   "version": "2.7.15"
  }
 },
 "nbformat": 4,
 "nbformat_minor": 2
}
